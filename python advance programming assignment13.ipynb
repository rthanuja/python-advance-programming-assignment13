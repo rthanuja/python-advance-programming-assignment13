{
 "cells": [
  {
   "cell_type": "code",
   "execution_count": 1,
   "id": "f95b3840",
   "metadata": {},
   "outputs": [],
   "source": [
    "'''1. Create a function that takes a list and string. The function should remove the letters in the string from the list, \n",
    "and return the list.'''\n",
    "def remove_letters(l,s):\n",
    "    for i in s:\n",
    "        if i in l:\n",
    "            l.remove(i)\n",
    "    return l"
   ]
  },
  {
   "cell_type": "code",
   "execution_count": 2,
   "id": "aad447b6",
   "metadata": {},
   "outputs": [
    {
     "data": {
      "text/plain": [
       "['w']"
      ]
     },
     "execution_count": 2,
     "metadata": {},
     "output_type": "execute_result"
    }
   ],
   "source": [
    "remove_letters([\"s\", \"t\", \"r\", \"i\", \"n\", \"g\", \"w\"], \"string\")"
   ]
  },
  {
   "cell_type": "code",
   "execution_count": 3,
   "id": "d7e14d75",
   "metadata": {},
   "outputs": [
    {
     "data": {
      "text/plain": [
       "['b', 'g', 'w']"
      ]
     },
     "execution_count": 3,
     "metadata": {},
     "output_type": "execute_result"
    }
   ],
   "source": [
    "remove_letters([\"b\", \"b\", \"l\", \"l\", \"g\", \"n\", \"o\", \"a\", \"w\"], \"balloon\") "
   ]
  },
  {
   "cell_type": "code",
   "execution_count": 4,
   "id": "c74b06d5",
   "metadata": {},
   "outputs": [
    {
     "data": {
      "text/plain": [
       "[]"
      ]
     },
     "execution_count": 4,
     "metadata": {},
     "output_type": "execute_result"
    }
   ],
   "source": [
    "remove_letters([\"d\", \"b\", \"t\", \"e\", \"a\", \"i\"], \"edabit\") "
   ]
  },
  {
   "cell_type": "code",
   "execution_count": 5,
   "id": "f61c3076",
   "metadata": {},
   "outputs": [],
   "source": [
    "'''2. A block sequence in three dimensions. We can write a formula for this one:5,12,20,29,39\n",
    "Create a function that takes a number (step) as an argument and returns the amount of blocks in that step.'''\n",
    "def blocks(n):\n",
    "    d=7\n",
    "    s=5\n",
    "    if n==1:\n",
    "        return s\n",
    "    else:\n",
    "        for i in range(2,n+1):\n",
    "            s+=d\n",
    "            d+=1\n",
    "    return s\n",
    "    "
   ]
  },
  {
   "cell_type": "code",
   "execution_count": 6,
   "id": "ecb1fd37",
   "metadata": {},
   "outputs": [
    {
     "data": {
      "text/plain": [
       "5"
      ]
     },
     "execution_count": 6,
     "metadata": {},
     "output_type": "execute_result"
    }
   ],
   "source": [
    "blocks(1)"
   ]
  },
  {
   "cell_type": "code",
   "execution_count": 7,
   "id": "9978a9a9",
   "metadata": {},
   "outputs": [
    {
     "data": {
      "text/plain": [
       "39"
      ]
     },
     "execution_count": 7,
     "metadata": {},
     "output_type": "execute_result"
    }
   ],
   "source": [
    "blocks(5)"
   ]
  },
  {
   "cell_type": "code",
   "execution_count": 8,
   "id": "d5087539",
   "metadata": {},
   "outputs": [
    {
     "data": {
      "text/plain": [
       "12"
      ]
     },
     "execution_count": 8,
     "metadata": {},
     "output_type": "execute_result"
    }
   ],
   "source": [
    "blocks(2)"
   ]
  },
  {
   "cell_type": "code",
   "execution_count": 9,
   "id": "8c913620",
   "metadata": {},
   "outputs": [],
   "source": [
    "'''3. Create a function that subtracts one positive integer from another, without using any arithmetic operators such as\n",
    "-, %, /, +, etc.'''\n",
    "def my_sub(a,b):\n",
    "    a,b=min(a,b),max(a,b)\n",
    "    while(a!=0):\n",
    "        c=(~b) & a\n",
    "        b=b^a\n",
    "        a=c<<1\n",
    "    return b"
   ]
  },
  {
   "cell_type": "code",
   "execution_count": 10,
   "id": "79f9b420",
   "metadata": {},
   "outputs": [
    {
     "data": {
      "text/plain": [
       "4"
      ]
     },
     "execution_count": 10,
     "metadata": {},
     "output_type": "execute_result"
    }
   ],
   "source": [
    "my_sub(5,9)"
   ]
  },
  {
   "cell_type": "code",
   "execution_count": 11,
   "id": "459ae7b0",
   "metadata": {},
   "outputs": [
    {
     "data": {
      "text/plain": [
       "20"
      ]
     },
     "execution_count": 11,
     "metadata": {},
     "output_type": "execute_result"
    }
   ],
   "source": [
    "my_sub(10,30)"
   ]
  },
  {
   "cell_type": "code",
   "execution_count": 12,
   "id": "8863fab3",
   "metadata": {},
   "outputs": [
    {
     "data": {
      "text/plain": [
       "0"
      ]
     },
     "execution_count": 12,
     "metadata": {},
     "output_type": "execute_result"
    }
   ],
   "source": [
    "my_sub(0,0)"
   ]
  },
  {
   "cell_type": "code",
   "execution_count": 13,
   "id": "813f09be",
   "metadata": {},
   "outputs": [],
   "source": [
    "'''4. Create a function that takes a string containing money in dollars and pounds sterling (seperated by comma) and returns\n",
    "the sum of dollar bills only,as an integer.\n",
    "For the input string:\n",
    "- Each amount is prefixed by the currency symbol: d for dollars and p for pounds.\n",
    "- Thousands are represented by the suffix k.\n",
    "i.e. $4k = $4,000 and £40k = £40,000'''\n",
    "import re\n",
    "def add_bill(s):\n",
    "    p=0    \n",
    "    r=re.sub(r'd',\" \",s)\n",
    "    r=re.sub(r'k',\"000\",r)\n",
    "    r=re.findall(r'\\s\\d+',r)\n",
    "    for i in r:\n",
    "        p+=int(i)\n",
    "    print(p)"
   ]
  },
  {
   "cell_type": "code",
   "execution_count": 14,
   "id": "a4fefd62",
   "metadata": {},
   "outputs": [
    {
     "name": "stdout",
     "output_type": "stream",
     "text": [
      "70\n"
     ]
    }
   ],
   "source": [
    "add_bill(\"d20,p40,p60,d50\")"
   ]
  },
  {
   "cell_type": "code",
   "execution_count": 15,
   "id": "4cdf3d1b",
   "metadata": {},
   "outputs": [
    {
     "name": "stdout",
     "output_type": "stream",
     "text": [
      "170\n"
     ]
    }
   ],
   "source": [
    "add_bill(\"p30,d20,p60,d150,p360\")"
   ]
  },
  {
   "cell_type": "code",
   "execution_count": 16,
   "id": "705e23dd",
   "metadata": {},
   "outputs": [
    {
     "name": "stdout",
     "output_type": "stream",
     "text": [
      "2200\n"
     ]
    }
   ],
   "source": [
    "add_bill(\"p30,d2k,p60,d200,p360\")"
   ]
  },
  {
   "cell_type": "code",
   "execution_count": 17,
   "id": "1d09c1fd",
   "metadata": {},
   "outputs": [],
   "source": [
    "'''5. Create a function that flips a horizontal list into a vertical list, and a vertical list into a horizontal list.\n",
    "In other words, take an 1 x n list (1 row + n columns) and flip it into a n x 1 list (n rows and 1 column), and vice versa.'''\n",
    "def flip_list(l):\n",
    "    r=[]\n",
    "    for i in l:\n",
    "        if type(i)==list:\n",
    "            r.extend(i)\n",
    "        else:\n",
    "            r.append([i])\n",
    "    return r"
   ]
  },
  {
   "cell_type": "code",
   "execution_count": 18,
   "id": "3e05bd56",
   "metadata": {},
   "outputs": [
    {
     "data": {
      "text/plain": [
       "[[1], [2], [3], [4]]"
      ]
     },
     "execution_count": 18,
     "metadata": {},
     "output_type": "execute_result"
    }
   ],
   "source": [
    "flip_list([1, 2, 3, 4])"
   ]
  },
  {
   "cell_type": "code",
   "execution_count": 19,
   "id": "92f3ed86",
   "metadata": {},
   "outputs": [
    {
     "data": {
      "text/plain": [
       "[5, 6, 9]"
      ]
     },
     "execution_count": 19,
     "metadata": {},
     "output_type": "execute_result"
    }
   ],
   "source": [
    "flip_list([[5], [6], [9]])"
   ]
  },
  {
   "cell_type": "code",
   "execution_count": 20,
   "id": "e5e3a0b5",
   "metadata": {},
   "outputs": [
    {
     "data": {
      "text/plain": [
       "[]"
      ]
     },
     "execution_count": 20,
     "metadata": {},
     "output_type": "execute_result"
    }
   ],
   "source": [
    "flip_list([])"
   ]
  }
 ],
 "metadata": {
  "kernelspec": {
   "display_name": "Python 3 (ipykernel)",
   "language": "python",
   "name": "python3"
  },
  "language_info": {
   "codemirror_mode": {
    "name": "ipython",
    "version": 3
   },
   "file_extension": ".py",
   "mimetype": "text/x-python",
   "name": "python",
   "nbconvert_exporter": "python",
   "pygments_lexer": "ipython3",
   "version": "3.10.9"
  }
 },
 "nbformat": 4,
 "nbformat_minor": 5
}
